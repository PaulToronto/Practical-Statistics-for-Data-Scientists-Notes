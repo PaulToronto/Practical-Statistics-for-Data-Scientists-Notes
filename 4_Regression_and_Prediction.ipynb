{
  "nbformat": 4,
  "nbformat_minor": 0,
  "metadata": {
    "colab": {
      "provenance": [],
      "toc_visible": true,
      "authorship_tag": "ABX9TyPre3B398DVNF0HGGnmPLOx",
      "include_colab_link": true
    },
    "kernelspec": {
      "name": "python3",
      "display_name": "Python 3"
    },
    "language_info": {
      "name": "python"
    }
  },
  "cells": [
    {
      "cell_type": "markdown",
      "metadata": {
        "id": "view-in-github",
        "colab_type": "text"
      },
      "source": [
        "<a href=\"https://colab.research.google.com/github/PaulToronto/Practical-Statistics-for-Data-Scientists-Notes/blob/main/4_Regression_and_Prediction.ipynb\" target=\"_parent\"><img src=\"https://colab.research.google.com/assets/colab-badge.svg\" alt=\"Open In Colab\"/></a>"
      ]
    },
    {
      "cell_type": "markdown",
      "source": [
        "# 4 Regression and Prediction"
      ],
      "metadata": {
        "id": "xwgysAy6GkEe"
      }
    },
    {
      "cell_type": "markdown",
      "source": [
        "## Simple Linear Regression"
      ],
      "metadata": {
        "id": "53QbB4dtKh3x"
      }
    },
    {
      "cell_type": "markdown",
      "source": [
        "### Key Terms\n",
        "\n",
        "- **Response**: the term we are trying to predict ($Y$)\n",
        "    - synonyms: dependent variable, Y variable, target, outcome\n",
        "- **Independent variable**: the variable used to predict the response ($X$)\n",
        "    - synonyms: X variable, feature, attribute, predictor\n",
        "- **Record**: the vector of predictor and outcome values for a specific individual or case\n",
        "    - synonyms: row, case, instance, example\n",
        "- **Intercept**: the intercept of the regression line\n",
        "    - that is the predicted value when $X = 0$\n",
        "    - synonyms: $b_0$, $\\beta_0$\n",
        "- **Regression coefficient**\n",
        "    - the slope of the regression line\n",
        "    - synonyms: $b_1$, $\\beta_1$\n",
        "- **Fitted values**\n",
        "    - the estimate\n",
        "    - $\\hat{y}$"
      ],
      "metadata": {
        "id": "1M4foDVdKoy5"
      }
    }
  ]
}