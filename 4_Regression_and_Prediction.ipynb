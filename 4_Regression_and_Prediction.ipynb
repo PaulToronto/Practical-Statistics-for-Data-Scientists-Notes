{
  "nbformat": 4,
  "nbformat_minor": 0,
  "metadata": {
    "colab": {
      "provenance": [],
      "toc_visible": true,
      "authorship_tag": "ABX9TyMN62xcSydTh7CZd+vM1Gnm",
      "include_colab_link": true
    },
    "kernelspec": {
      "name": "python3",
      "display_name": "Python 3"
    },
    "language_info": {
      "name": "python"
    }
  },
  "cells": [
    {
      "cell_type": "markdown",
      "metadata": {
        "id": "view-in-github",
        "colab_type": "text"
      },
      "source": [
        "<a href=\"https://colab.research.google.com/github/PaulToronto/Practical-Statistics-for-Data-Scientists-Notes/blob/main/4_Regression_and_Prediction.ipynb\" target=\"_parent\"><img src=\"https://colab.research.google.com/assets/colab-badge.svg\" alt=\"Open In Colab\"/></a>"
      ]
    },
    {
      "cell_type": "markdown",
      "source": [
        "# 4 Regression and Prediction"
      ],
      "metadata": {
        "id": "xwgysAy6GkEe"
      }
    },
    {
      "cell_type": "code",
      "source": [
        "import pandas as pd\n",
        "import numpy as np\n",
        "import sklearn\n",
        "import matplotlib.pyplot as plt\n",
        "\n",
        "from sklearn.linear_model import LinearRegression\n",
        "from sklearn.metrics import mean_squared_error, r2_score\n",
        "\n",
        "import statsmodels.api as sm"
      ],
      "metadata": {
        "id": "pdGFzxZWcdVM"
      },
      "execution_count": 1,
      "outputs": []
    },
    {
      "cell_type": "markdown",
      "source": [
        "## Regression vs. Correlation\n",
        "\n",
        "- **Correlation** measures the *strength* of an association\n",
        "- **Regression** quantifies the *nature*  of the relationship"
      ],
      "metadata": {
        "id": "_9Lsr6mG4MmJ"
      }
    },
    {
      "cell_type": "markdown",
      "source": [
        "## Simple Linear Regression"
      ],
      "metadata": {
        "id": "53QbB4dtKh3x"
      }
    },
    {
      "cell_type": "markdown",
      "source": [
        "### Key Terms\n",
        "\n",
        "- **Response**: the term we are trying to predict ($Y$)\n",
        "    - synonyms: dependent variable, Y variable, target, outcome\n",
        "- **Independent variable**: the variable used to predict the response ($X$)\n",
        "    - synonyms: X variable, feature, attribute, predictor\n",
        "- **Record**: the vector of predictor and outcome values for a specific individual or case\n",
        "    - synonyms: row, case, instance, example\n",
        "- **Intercept**: the intercept of the regression line\n",
        "    - that is the predicted value when $X = 0$\n",
        "    - synonyms: $b_0$, $\\beta_0$\n",
        "- **Regression coefficient**\n",
        "    - the slope of the regression line\n",
        "    - synonyms: $b_1$, $\\beta_1$\n",
        "- **Fitted values**\n",
        "    - the estimates $\\hat{Y}_{i}$ obtained from the regression line\n",
        "    - synonym: predicted values\n",
        "- **Residuals**\n",
        "    - the difference between the observed values and the fitted values\n",
        "    - synonym: errors\n",
        "- **Least Squares**:\n",
        "    - the method of fitting a regression by minimizing the sum of squared residuals\n",
        "    - synonyms: ordinary least squares, OLS\n"
      ],
      "metadata": {
        "id": "1M4foDVdKoy5"
      }
    },
    {
      "cell_type": "markdown",
      "source": [
        "### The Regression Equation\n",
        "\n",
        "$Y = b_0 + b_1X$\n",
        "\n",
        "- simple linear regression estimates how much $Y$ will change when $X$ changes by a certain amount."
      ],
      "metadata": {
        "id": "xjKX3PKfXR3-"
      }
    },
    {
      "cell_type": "code",
      "source": [
        "path = 'https://raw.githubusercontent.com/PaulToronto'\n",
        "path += '/Practical-Statistics-for-Data-Scientists-Notes/main'\n",
        "path += '/data/LungDisease.csv'\n",
        "\n",
        "lung = pd.read_csv(path)\n",
        "lung.head()"
      ],
      "metadata": {
        "colab": {
          "base_uri": "https://localhost:8080/",
          "height": 206
        },
        "id": "C5cRHLr5cXwx",
        "outputId": "ffa1cfa5-2388-437d-c2dc-2e7d3bc39975"
      },
      "execution_count": 2,
      "outputs": [
        {
          "output_type": "execute_result",
          "data": {
            "text/plain": [
              "   PEFR  Exposure\n",
              "0   390         0\n",
              "1   410         0\n",
              "2   430         0\n",
              "3   460         0\n",
              "4   420         1"
            ],
            "text/html": [
              "\n",
              "  <div id=\"df-49573489-f438-41e6-afed-4333fbf05eea\">\n",
              "    <div class=\"colab-df-container\">\n",
              "      <div>\n",
              "<style scoped>\n",
              "    .dataframe tbody tr th:only-of-type {\n",
              "        vertical-align: middle;\n",
              "    }\n",
              "\n",
              "    .dataframe tbody tr th {\n",
              "        vertical-align: top;\n",
              "    }\n",
              "\n",
              "    .dataframe thead th {\n",
              "        text-align: right;\n",
              "    }\n",
              "</style>\n",
              "<table border=\"1\" class=\"dataframe\">\n",
              "  <thead>\n",
              "    <tr style=\"text-align: right;\">\n",
              "      <th></th>\n",
              "      <th>PEFR</th>\n",
              "      <th>Exposure</th>\n",
              "    </tr>\n",
              "  </thead>\n",
              "  <tbody>\n",
              "    <tr>\n",
              "      <th>0</th>\n",
              "      <td>390</td>\n",
              "      <td>0</td>\n",
              "    </tr>\n",
              "    <tr>\n",
              "      <th>1</th>\n",
              "      <td>410</td>\n",
              "      <td>0</td>\n",
              "    </tr>\n",
              "    <tr>\n",
              "      <th>2</th>\n",
              "      <td>430</td>\n",
              "      <td>0</td>\n",
              "    </tr>\n",
              "    <tr>\n",
              "      <th>3</th>\n",
              "      <td>460</td>\n",
              "      <td>0</td>\n",
              "    </tr>\n",
              "    <tr>\n",
              "      <th>4</th>\n",
              "      <td>420</td>\n",
              "      <td>1</td>\n",
              "    </tr>\n",
              "  </tbody>\n",
              "</table>\n",
              "</div>\n",
              "      <button class=\"colab-df-convert\" onclick=\"convertToInteractive('df-49573489-f438-41e6-afed-4333fbf05eea')\"\n",
              "              title=\"Convert this dataframe to an interactive table.\"\n",
              "              style=\"display:none;\">\n",
              "        \n",
              "  <svg xmlns=\"http://www.w3.org/2000/svg\" height=\"24px\"viewBox=\"0 0 24 24\"\n",
              "       width=\"24px\">\n",
              "    <path d=\"M0 0h24v24H0V0z\" fill=\"none\"/>\n",
              "    <path d=\"M18.56 5.44l.94 2.06.94-2.06 2.06-.94-2.06-.94-.94-2.06-.94 2.06-2.06.94zm-11 1L8.5 8.5l.94-2.06 2.06-.94-2.06-.94L8.5 2.5l-.94 2.06-2.06.94zm10 10l.94 2.06.94-2.06 2.06-.94-2.06-.94-.94-2.06-.94 2.06-2.06.94z\"/><path d=\"M17.41 7.96l-1.37-1.37c-.4-.4-.92-.59-1.43-.59-.52 0-1.04.2-1.43.59L10.3 9.45l-7.72 7.72c-.78.78-.78 2.05 0 2.83L4 21.41c.39.39.9.59 1.41.59.51 0 1.02-.2 1.41-.59l7.78-7.78 2.81-2.81c.8-.78.8-2.07 0-2.86zM5.41 20L4 18.59l7.72-7.72 1.47 1.35L5.41 20z\"/>\n",
              "  </svg>\n",
              "      </button>\n",
              "      \n",
              "  <style>\n",
              "    .colab-df-container {\n",
              "      display:flex;\n",
              "      flex-wrap:wrap;\n",
              "      gap: 12px;\n",
              "    }\n",
              "\n",
              "    .colab-df-convert {\n",
              "      background-color: #E8F0FE;\n",
              "      border: none;\n",
              "      border-radius: 50%;\n",
              "      cursor: pointer;\n",
              "      display: none;\n",
              "      fill: #1967D2;\n",
              "      height: 32px;\n",
              "      padding: 0 0 0 0;\n",
              "      width: 32px;\n",
              "    }\n",
              "\n",
              "    .colab-df-convert:hover {\n",
              "      background-color: #E2EBFA;\n",
              "      box-shadow: 0px 1px 2px rgba(60, 64, 67, 0.3), 0px 1px 3px 1px rgba(60, 64, 67, 0.15);\n",
              "      fill: #174EA6;\n",
              "    }\n",
              "\n",
              "    [theme=dark] .colab-df-convert {\n",
              "      background-color: #3B4455;\n",
              "      fill: #D2E3FC;\n",
              "    }\n",
              "\n",
              "    [theme=dark] .colab-df-convert:hover {\n",
              "      background-color: #434B5C;\n",
              "      box-shadow: 0px 1px 3px 1px rgba(0, 0, 0, 0.15);\n",
              "      filter: drop-shadow(0px 1px 2px rgba(0, 0, 0, 0.3));\n",
              "      fill: #FFFFFF;\n",
              "    }\n",
              "  </style>\n",
              "\n",
              "      <script>\n",
              "        const buttonEl =\n",
              "          document.querySelector('#df-49573489-f438-41e6-afed-4333fbf05eea button.colab-df-convert');\n",
              "        buttonEl.style.display =\n",
              "          google.colab.kernel.accessAllowed ? 'block' : 'none';\n",
              "\n",
              "        async function convertToInteractive(key) {\n",
              "          const element = document.querySelector('#df-49573489-f438-41e6-afed-4333fbf05eea');\n",
              "          const dataTable =\n",
              "            await google.colab.kernel.invokeFunction('convertToInteractive',\n",
              "                                                     [key], {});\n",
              "          if (!dataTable) return;\n",
              "\n",
              "          const docLinkHtml = 'Like what you see? Visit the ' +\n",
              "            '<a target=\"_blank\" href=https://colab.research.google.com/notebooks/data_table.ipynb>data table notebook</a>'\n",
              "            + ' to learn more about interactive tables.';\n",
              "          element.innerHTML = '';\n",
              "          dataTable['output_type'] = 'display_data';\n",
              "          await google.colab.output.renderOutput(dataTable, element);\n",
              "          const docLink = document.createElement('div');\n",
              "          docLink.innerHTML = docLinkHtml;\n",
              "          element.appendChild(docLink);\n",
              "        }\n",
              "      </script>\n",
              "    </div>\n",
              "  </div>\n",
              "  "
            ]
          },
          "metadata": {},
          "execution_count": 2
        }
      ]
    },
    {
      "cell_type": "code",
      "source": [
        "lung.shape"
      ],
      "metadata": {
        "colab": {
          "base_uri": "https://localhost:8080/"
        },
        "id": "ttz9Vc5Sc0xN",
        "outputId": "bfab0b38-a038-4baf-8582-b4ee6c4148ac"
      },
      "execution_count": 3,
      "outputs": [
        {
          "output_type": "execute_result",
          "data": {
            "text/plain": [
              "(122, 2)"
            ]
          },
          "metadata": {},
          "execution_count": 3
        }
      ]
    },
    {
      "cell_type": "markdown",
      "source": [
        "- *Exposure* is the number of years an worker was exposed to cotton dust\n",
        " - $X$\n",
        "- *PEFR (peak expiratory flow rate)* is a measure of lung capacity\n",
        "  - $Y$"
      ],
      "metadata": {
        "id": "xD5-2R0HeHS9"
      }
    },
    {
      "cell_type": "code",
      "source": [
        "plt.figure(figsize=(8, 8))\n",
        "plt.scatter(lung['Exposure'], \n",
        "            lung['PEFR'],\n",
        "            marker='o', \n",
        "            facecolors='none',\n",
        "            edgecolors='navy');\n",
        "plt.title('PEFR vs. Exposure')\n",
        "plt.xlabel('Exposure')\n",
        "plt.ylabel('PEFR')\n",
        " \n",
        "plt.show()"
      ],
      "metadata": {
        "colab": {
          "base_uri": "https://localhost:8080/",
          "height": 513
        },
        "id": "-zFMviWSc5wA",
        "outputId": "e1500ea6-f41e-4fef-ef5b-a9e82e1b51f3"
      },
      "execution_count": 4,
      "outputs": [
        {
          "output_type": "display_data",
          "data": {
            "text/plain": [
              "<Figure size 576x576 with 1 Axes>"
            ],
            "image/png": "[encoded data removed]"
          },
          "metadata": {
            "needs_background": "light"
          }
        }
      ]
    },
    {
      "cell_type": "code",
      "source": [
        "model = LinearRegression()\n",
        "\n",
        "predictors = ['Exposure']\n",
        "outcome = 'PEFR'\n",
        "\n",
        "model.fit(lung[predictors], lung[outcome])"
      ],
      "metadata": {
        "colab": {
          "base_uri": "https://localhost:8080/"
        },
        "id": "5VAjVMjHgR-4",
        "outputId": "598723f4-87a8-442d-c772-a9ac5a4b5f6a"
      },
      "execution_count": 5,
      "outputs": [
        {
          "output_type": "execute_result",
          "data": {
            "text/plain": [
              "LinearRegression()"
            ]
          },
          "metadata": {},
          "execution_count": 5
        }
      ]
    },
    {
      "cell_type": "code",
      "source": [
        "model.intercept_"
      ],
      "metadata": {
        "colab": {
          "base_uri": "https://localhost:8080/"
        },
        "id": "7w3XubXRiZ8C",
        "outputId": "93118cf1-e7c0-4ea8-9159-f34d5d0d3f74"
      },
      "execution_count": 6,
      "outputs": [
        {
          "output_type": "execute_result",
          "data": {
            "text/plain": [
              "424.582806573957"
            ]
          },
          "metadata": {},
          "execution_count": 6
        }
      ]
    },
    {
      "cell_type": "code",
      "source": [
        "model.coef_"
      ],
      "metadata": {
        "colab": {
          "base_uri": "https://localhost:8080/"
        },
        "id": "6Xqjf5e8ivzK",
        "outputId": "b12aca5b-82f9-487b-ff04-f1d6906c6522"
      },
      "execution_count": 7,
      "outputs": [
        {
          "output_type": "execute_result",
          "data": {
            "text/plain": [
              "array([-4.18457649])"
            ]
          },
          "metadata": {},
          "execution_count": 7
        }
      ]
    },
    {
      "cell_type": "code",
      "source": [
        "plt.figure(figsize=(8, 8))\n",
        "plt.scatter(lung['Exposure'], \n",
        "            lung['PEFR'], \n",
        "            marker='o', \n",
        "            facecolors='none',\n",
        "            edgecolors='navy')\n",
        "\n",
        "# regression line\n",
        "exposure = np.array([lung['Exposure'].min() - 1, lung['Exposure'].max() + 1])\n",
        "y_hat = model.intercept_ + model.coef_[0] * exposure\n",
        "plt.plot(exposure, y_hat, color='red', linewidth=3)\n",
        "\n",
        "plt.title('PEFR vs. Exposure with Regression Line')\n",
        "plt.xlabel('Exposure')\n",
        "plt.ylabel('PEFR')\n",
        " \n",
        "plt.show()"
      ],
      "metadata": {
        "colab": {
          "base_uri": "https://localhost:8080/",
          "height": 513
        },
        "id": "-cOxva5rjU9h",
        "outputId": "8ec672e2-85e7-4cc2-ccfd-d2986319df96"
      },
      "execution_count": 8,
      "outputs": [
        {
          "output_type": "display_data",
          "data": {
            "text/plain": [
              "<Figure size 576x576 with 1 Axes>"
            ],
            "image/png": "[encoded data removed]"
          },
          "metadata": {
            "needs_background": "light"
          }
        }
      ]
    },
    {
      "cell_type": "markdown",
      "source": [
        "### Fitted values and Residuals\n",
        "\n",
        "- the fitted values are the predictions\n",
        "- the residuals are the prediction errors\n",
        "\n",
        "Because the data doesn't fall exactly on a line, the regression equation should include an explicit error term $e_i$\n",
        "\n",
        "$Y_i = b_0 + b_1X_i + e_i$\n",
        "\n",
        "The **fitted values** are denoted by:\n",
        "\n",
        "$\\hat{Y}_i = \\hat{b}_0 + \\hat{b}_1X_i$\n",
        "\n",
        "The notation $\\hat{b}_0$ and $\\hat{b}_1$ indicates that the coefficients are estimated vs. known. \n",
        "\n",
        "We compute the **residuals** by subtracting the predicted values from the original data:\n",
        "\n",
        "$\\hat{e}_i = Y_i - \\hat{Y}_i$"
      ],
      "metadata": {
        "id": "bo8la6C3vfZm"
      }
    },
    {
      "cell_type": "markdown",
      "source": [
        "#### Computing the fitted values and the residuals"
      ],
      "metadata": {
        "id": "D1g9MXwpyYPt"
      }
    },
    {
      "cell_type": "code",
      "source": [
        "fitted = model.predict(lung[predictors])\n",
        "fitted"
      ],
      "metadata": {
        "colab": {
          "base_uri": "https://localhost:8080/"
        },
        "id": "rKok2M7WyeAM",
        "outputId": "ba9c926a-52d4-4714-bf68-5dca4fdd0e20"
      },
      "execution_count": 9,
      "outputs": [
        {
          "output_type": "execute_result",
          "data": {
            "text/plain": [
              "array([424.58280657, 424.58280657, 424.58280657, 424.58280657,\n",
              "       420.39823009, 416.2136536 , 416.2136536 , 416.2136536 ,\n",
              "       412.02907712, 412.02907712, 412.02907712, 412.02907712,\n",
              "       412.02907712, 412.02907712, 407.84450063, 407.84450063,\n",
              "       407.84450063, 407.84450063, 407.84450063, 407.84450063,\n",
              "       403.65992415, 399.47534766, 399.47534766, 399.47534766,\n",
              "       399.47534766, 399.47534766, 395.29077118, 395.29077118,\n",
              "       395.29077118, 395.29077118, 395.29077118, 395.29077118,\n",
              "       395.29077118, 391.10619469, 386.9216182 , 382.73704172,\n",
              "       382.73704172, 382.73704172, 374.36788875, 374.36788875,\n",
              "       370.18331226, 370.18331226, 370.18331226, 370.18331226,\n",
              "       370.18331226, 370.18331226, 370.18331226, 370.18331226,\n",
              "       365.99873578, 365.99873578, 365.99873578, 365.99873578,\n",
              "       365.99873578, 365.99873578, 361.81415929, 361.81415929,\n",
              "       361.81415929, 357.62958281, 357.62958281, 353.44500632,\n",
              "       353.44500632, 353.44500632, 353.44500632, 353.44500632,\n",
              "       353.44500632, 349.26042984, 349.26042984, 349.26042984,\n",
              "       349.26042984, 345.07585335, 345.07585335, 345.07585335,\n",
              "       345.07585335, 345.07585335, 345.07585335, 345.07585335,\n",
              "       345.07585335, 345.07585335, 345.07585335, 345.07585335,\n",
              "       345.07585335, 345.07585335, 340.89127686, 340.89127686,\n",
              "       340.89127686, 340.89127686, 340.89127686, 340.89127686,\n",
              "       340.89127686, 340.89127686, 340.89127686, 340.89127686,\n",
              "       340.89127686, 340.89127686, 340.89127686, 340.89127686,\n",
              "       340.89127686, 340.89127686, 340.89127686, 340.89127686,\n",
              "       340.89127686, 340.89127686, 340.89127686, 340.89127686,\n",
              "       336.70670038, 336.70670038, 336.70670038, 336.70670038,\n",
              "       336.70670038, 336.70670038, 336.70670038, 336.70670038,\n",
              "       336.70670038, 336.70670038, 332.52212389, 332.52212389,\n",
              "       332.52212389, 332.52212389, 332.52212389, 332.52212389,\n",
              "       328.33754741, 328.33754741])"
            ]
          },
          "metadata": {},
          "execution_count": 9
        }
      ]
    },
    {
      "cell_type": "code",
      "source": [
        "# verify with first principles\n",
        "fitted - np.array((model.intercept_ + model.coef_[0] * lung[predictors])['Exposure'])"
      ],
      "metadata": {
        "colab": {
          "base_uri": "https://localhost:8080/"
        },
        "id": "4WkIt4B3y8h2",
        "outputId": "47079ab8-6525-4509-f84d-063ca8662829"
      },
      "execution_count": 10,
      "outputs": [
        {
          "output_type": "execute_result",
          "data": {
            "text/plain": [
              "array([0., 0., 0., 0., 0., 0., 0., 0., 0., 0., 0., 0., 0., 0., 0., 0., 0.,\n",
              "       0., 0., 0., 0., 0., 0., 0., 0., 0., 0., 0., 0., 0., 0., 0., 0., 0.,\n",
              "       0., 0., 0., 0., 0., 0., 0., 0., 0., 0., 0., 0., 0., 0., 0., 0., 0.,\n",
              "       0., 0., 0., 0., 0., 0., 0., 0., 0., 0., 0., 0., 0., 0., 0., 0., 0.,\n",
              "       0., 0., 0., 0., 0., 0., 0., 0., 0., 0., 0., 0., 0., 0., 0., 0., 0.,\n",
              "       0., 0., 0., 0., 0., 0., 0., 0., 0., 0., 0., 0., 0., 0., 0., 0., 0.,\n",
              "       0., 0., 0., 0., 0., 0., 0., 0., 0., 0., 0., 0., 0., 0., 0., 0., 0.,\n",
              "       0., 0., 0.])"
            ]
          },
          "metadata": {},
          "execution_count": 10
        }
      ]
    },
    {
      "cell_type": "code",
      "source": [
        "residuals = lung[outcome] - fitted\n",
        "residuals"
      ],
      "metadata": {
        "colab": {
          "base_uri": "https://localhost:8080/"
        },
        "id": "jF46IkRE0XUP",
        "outputId": "c2326cf5-a073-49b2-e65b-eda6063bab01"
      },
      "execution_count": 11,
      "outputs": [
        {
          "output_type": "execute_result",
          "data": {
            "text/plain": [
              "0      -34.582807\n",
              "1      -14.582807\n",
              "2        5.417193\n",
              "3       35.417193\n",
              "4       -0.398230\n",
              "          ...    \n",
              "117    117.477876\n",
              "118    157.477876\n",
              "119    167.477876\n",
              "120     41.662453\n",
              "121     61.662453\n",
              "Name: PEFR, Length: 122, dtype: float64"
            ]
          },
          "metadata": {},
          "execution_count": 11
        }
      ]
    },
    {
      "cell_type": "code",
      "source": [
        "plt.figure(figsize=(8, 8))\n",
        "plt.scatter(lung['Exposure'], \n",
        "            lung['PEFR'], \n",
        "            marker='o', \n",
        "            facecolors='none',\n",
        "            edgecolors='navy')\n",
        "\n",
        "# regression line\n",
        "exposure = np.array([lung['Exposure'].min() - 1, lung['Exposure'].max() + 1])\n",
        "y_hat = model.intercept_ + model.coef_[0] * exposure\n",
        "plt.plot(exposure, y_hat, color='red', linewidth=3)\n",
        "# alternate regression line\n",
        "plt.plot(lung['Exposure'], fitted, color='lime', linewidth=2)\n",
        "\n",
        "plt.vlines(lung['Exposure'], \n",
        "           fitted, \n",
        "           fitted + residuals,\n",
        "           linestyle='dotted',\n",
        "           color='dodgerblue')\n",
        "\n",
        "plt.title('PEFR vs. Exposure with Regression Line and Residuals')\n",
        "plt.xlabel('Exposure')\n",
        "plt.ylabel('PEFR')\n",
        " \n",
        "plt.show()\n"
      ],
      "metadata": {
        "colab": {
          "base_uri": "https://localhost:8080/",
          "height": 513
        },
        "id": "-_n1YHip06yE",
        "outputId": "2996ccab-0245-45b6-e2b5-5aba5dd7bc76"
      },
      "execution_count": 12,
      "outputs": [
        {
          "output_type": "display_data",
          "data": {
            "text/plain": [
              "<Figure size 576x576 with 1 Axes>"
            ],
            "image/png": "[encoded data removed]"
          },
          "metadata": {
            "needs_background": "light"
          }
        }
      ]
    },
    {
      "cell_type": "markdown",
      "source": [
        "### Least Squares\n",
        "\n",
        "The regression line is the estimate that minimizes the sum of the squared residual values, aka the **residual sum of squares** or **RSS**"
      ],
      "metadata": {
        "id": "WBbk83Cp59qN"
      }
    },
    {
      "cell_type": "markdown",
      "source": [
        "$$\n",
        "\\begin{align}\n",
        "RSS &= \\sum_{i=1}^{n}\\left(Y_i - \\hat{Y}_i\\right)^2 \\\\\n",
        "&= \\sum_{i=1}^{n}\\left(Y_i - \\hat{b}_0 - \\hat{b}_1X_i\\right)^2\n",
        "\\end{align}\n",
        "$$"
      ],
      "metadata": {
        "id": "SO7Rj79QQuUH"
      }
    },
    {
      "cell_type": "markdown",
      "source": [
        "- The estimates $\\hat{b}_{0}$ and $\\hat{b}_{1}$ are the values that minimize $RSS$.\n",
        "\n",
        "- The method of minimizing the sum of the squared residuals is termed **least squares regression** or **ordinary least squares (OLS) regression**. \n",
        "\n",
        "- Least squares regression is sensitive to outliers, which can be a significant problem in small or moderate-sized data sets. \n",
        "\n",
        "- Regression is used for:\n",
        "    1. Prediction\n",
        "    2. Explanation"
      ],
      "metadata": {
        "id": "-SvP57FeSHsI"
      }
    },
    {
      "cell_type": "markdown",
      "source": [
        "## Multiple Linear Regression"
      ],
      "metadata": {
        "id": "S1gAZ0FpU0EI"
      }
    },
    {
      "cell_type": "markdown",
      "source": [
        "Instead of a line, we now have a **linear model**.\n",
        "\n",
        "$Y = b_0 + b_1X_1 + b_2X_2 + ... + b_pX_p + e$"
      ],
      "metadata": {
        "id": "q-f5dX0D-KpG"
      }
    },
    {
      "cell_type": "markdown",
      "source": [
        "### Key Terms\n",
        "\n",
        "- **Root mean squared error**: the square root of the average squared error of the regression\n",
        "    - this is the most widely used metric to compare regression models\n",
        "    - synonym: RMSE\n",
        "- **Residual standard error**: the same is the *root mean squared error*, but adjusted for degrees of freedom\n",
        "    - synonym: RSE\n",
        "- **R-squared** or $R^2$: the proportion of the variance explained by the model (from 0 to 1)\n",
        "    - synonym: coefficent of determination\n",
        "    - can use `sklearn.metrics.r2_score`\n",
        "- **t-statistic**: the coefficient for a predictor, divided by the standard error of the coefficient, giving a metric to compare the importance of variables in the model\n",
        "- **Weighted regression**: regression with records having different weights"
      ],
      "metadata": {
        "id": "O52fQ0NF_WVw"
      }
    },
    {
      "cell_type": "markdown",
      "source": [
        "### Example: King County Housing Data\n",
        "\n",
        "- The goal is to predict the sales price from the other variables"
      ],
      "metadata": {
        "id": "_Eo2hv2wC5Im"
      }
    },
    {
      "cell_type": "code",
      "source": [
        "path = 'https://raw.githubusercontent.com/PaulToronto'\n",
        "path += '/Practical-Statistics-for-Data-Scientists-Notes/main/'\n",
        "path += 'data/house_sales.csv'"
      ],
      "metadata": {
        "id": "jhZjuc0UC-eY"
      },
      "execution_count": 13,
      "outputs": []
    },
    {
      "cell_type": "code",
      "source": [
        "house = pd.read_csv(path, delimiter='\\t')\n",
        "subset = ['AdjSalePrice', 'SqFtTotLiving', 'SqFtLot', \n",
        "          'Bathrooms', 'Bedrooms', 'BldgGrade']\n",
        "house[subset].head()"
      ],
      "metadata": {
        "colab": {
          "base_uri": "https://localhost:8080/",
          "height": 206
        },
        "id": "PsqCZl5zDKPk",
        "outputId": "892af2e5-c5e3-47c0-ee04-6ceb00db1192"
      },
      "execution_count": 14,
      "outputs": [
        {
          "output_type": "execute_result",
          "data": {
            "text/plain": [
              "   AdjSalePrice  SqFtTotLiving  SqFtLot  Bathrooms  Bedrooms  BldgGrade\n",
              "1      300805.0           2400     9373       3.00         6          7\n",
              "2     1076162.0           3764    20156       3.75         4         10\n",
              "3      761805.0           2060    26036       1.75         4          8\n",
              "4      442065.0           3200     8618       3.75         5          7\n",
              "5      297065.0           1720     8620       1.75         4          7"
            ],
            "text/html": [
              "\n",
              "  <div id=\"df-46dd19a4-c4ce-4982-b7a0-8bf12d9e5800\">\n",
              "    <div class=\"colab-df-container\">\n",
              "      <div>\n",
              "<style scoped>\n",
              "    .dataframe tbody tr th:only-of-type {\n",
              "        vertical-align: middle;\n",
              "    }\n",
              "\n",
              "    .dataframe tbody tr th {\n",
              "        vertical-align: top;\n",
              "    }\n",
              "\n",
              "    .dataframe thead th {\n",
              "        text-align: right;\n",
              "    }\n",
              "</style>\n",
              "<table border=\"1\" class=\"dataframe\">\n",
              "  <thead>\n",
              "    <tr style=\"text-align: right;\">\n",
              "      <th></th>\n",
              "      <th>AdjSalePrice</th>\n",
              "      <th>SqFtTotLiving</th>\n",
              "      <th>SqFtLot</th>\n",
              "      <th>Bathrooms</th>\n",
              "      <th>Bedrooms</th>\n",
              "      <th>BldgGrade</th>\n",
              "    </tr>\n",
              "  </thead>\n",
              "  <tbody>\n",
              "    <tr>\n",
              "      <th>1</th>\n",
              "      <td>300805.0</td>\n",
              "      <td>2400</td>\n",
              "      <td>9373</td>\n",
              "      <td>3.00</td>\n",
              "      <td>6</td>\n",
              "      <td>7</td>\n",
              "    </tr>\n",
              "    <tr>\n",
              "      <th>2</th>\n",
              "      <td>1076162.0</td>\n",
              "      <td>3764</td>\n",
              "      <td>20156</td>\n",
              "      <td>3.75</td>\n",
              "      <td>4</td>\n",
              "      <td>10</td>\n",
              "    </tr>\n",
              "    <tr>\n",
              "      <th>3</th>\n",
              "      <td>761805.0</td>\n",
              "      <td>2060</td>\n",
              "      <td>26036</td>\n",
              "      <td>1.75</td>\n",
              "      <td>4</td>\n",
              "      <td>8</td>\n",
              "    </tr>\n",
              "    <tr>\n",
              "      <th>4</th>\n",
              "      <td>442065.0</td>\n",
              "      <td>3200</td>\n",
              "      <td>8618</td>\n",
              "      <td>3.75</td>\n",
              "      <td>5</td>\n",
              "      <td>7</td>\n",
              "    </tr>\n",
              "    <tr>\n",
              "      <th>5</th>\n",
              "      <td>297065.0</td>\n",
              "      <td>1720</td>\n",
              "      <td>8620</td>\n",
              "      <td>1.75</td>\n",
              "      <td>4</td>\n",
              "      <td>7</td>\n",
              "    </tr>\n",
              "  </tbody>\n",
              "</table>\n",
              "</div>\n",
              "      <button class=\"colab-df-convert\" onclick=\"convertToInteractive('df-46dd19a4-c4ce-4982-b7a0-8bf12d9e5800')\"\n",
              "              title=\"Convert this dataframe to an interactive table.\"\n",
              "              style=\"display:none;\">\n",
              "        \n",
              "  <svg xmlns=\"http://www.w3.org/2000/svg\" height=\"24px\"viewBox=\"0 0 24 24\"\n",
              "       width=\"24px\">\n",
              "    <path d=\"M0 0h24v24H0V0z\" fill=\"none\"/>\n",
              "    <path d=\"M18.56 5.44l.94 2.06.94-2.06 2.06-.94-2.06-.94-.94-2.06-.94 2.06-2.06.94zm-11 1L8.5 8.5l.94-2.06 2.06-.94-2.06-.94L8.5 2.5l-.94 2.06-2.06.94zm10 10l.94 2.06.94-2.06 2.06-.94-2.06-.94-.94-2.06-.94 2.06-2.06.94z\"/><path d=\"M17.41 7.96l-1.37-1.37c-.4-.4-.92-.59-1.43-.59-.52 0-1.04.2-1.43.59L10.3 9.45l-7.72 7.72c-.78.78-.78 2.05 0 2.83L4 21.41c.39.39.9.59 1.41.59.51 0 1.02-.2 1.41-.59l7.78-7.78 2.81-2.81c.8-.78.8-2.07 0-2.86zM5.41 20L4 18.59l7.72-7.72 1.47 1.35L5.41 20z\"/>\n",
              "  </svg>\n",
              "      </button>\n",
              "      \n",
              "  <style>\n",
              "    .colab-df-container {\n",
              "      display:flex;\n",
              "      flex-wrap:wrap;\n",
              "      gap: 12px;\n",
              "    }\n",
              "\n",
              "    .colab-df-convert {\n",
              "      background-color: #E8F0FE;\n",
              "      border: none;\n",
              "      border-radius: 50%;\n",
              "      cursor: pointer;\n",
              "      display: none;\n",
              "      fill: #1967D2;\n",
              "      height: 32px;\n",
              "      padding: 0 0 0 0;\n",
              "      width: 32px;\n",
              "    }\n",
              "\n",
              "    .colab-df-convert:hover {\n",
              "      background-color: #E2EBFA;\n",
              "      box-shadow: 0px 1px 2px rgba(60, 64, 67, 0.3), 0px 1px 3px 1px rgba(60, 64, 67, 0.15);\n",
              "      fill: #174EA6;\n",
              "    }\n",
              "\n",
              "    [theme=dark] .colab-df-convert {\n",
              "      background-color: #3B4455;\n",
              "      fill: #D2E3FC;\n",
              "    }\n",
              "\n",
              "    [theme=dark] .colab-df-convert:hover {\n",
              "      background-color: #434B5C;\n",
              "      box-shadow: 0px 1px 3px 1px rgba(0, 0, 0, 0.15);\n",
              "      filter: drop-shadow(0px 1px 2px rgba(0, 0, 0, 0.3));\n",
              "      fill: #FFFFFF;\n",
              "    }\n",
              "  </style>\n",
              "\n",
              "      <script>\n",
              "        const buttonEl =\n",
              "          document.querySelector('#df-46dd19a4-c4ce-4982-b7a0-8bf12d9e5800 button.colab-df-convert');\n",
              "        buttonEl.style.display =\n",
              "          google.colab.kernel.accessAllowed ? 'block' : 'none';\n",
              "\n",
              "        async function convertToInteractive(key) {\n",
              "          const element = document.querySelector('#df-46dd19a4-c4ce-4982-b7a0-8bf12d9e5800');\n",
              "          const dataTable =\n",
              "            await google.colab.kernel.invokeFunction('convertToInteractive',\n",
              "                                                     [key], {});\n",
              "          if (!dataTable) return;\n",
              "\n",
              "          const docLinkHtml = 'Like what you see? Visit the ' +\n",
              "            '<a target=\"_blank\" href=https://colab.research.google.com/notebooks/data_table.ipynb>data table notebook</a>'\n",
              "            + ' to learn more about interactive tables.';\n",
              "          element.innerHTML = '';\n",
              "          dataTable['output_type'] = 'display_data';\n",
              "          await google.colab.output.renderOutput(dataTable, element);\n",
              "          const docLink = document.createElement('div');\n",
              "          docLink.innerHTML = docLinkHtml;\n",
              "          element.appendChild(docLink);\n",
              "        }\n",
              "      </script>\n",
              "    </div>\n",
              "  </div>\n",
              "  "
            ]
          },
          "metadata": {},
          "execution_count": 14
        }
      ]
    },
    {
      "cell_type": "code",
      "source": [
        "house.shape"
      ],
      "metadata": {
        "colab": {
          "base_uri": "https://localhost:8080/"
        },
        "id": "wGB26q28RX2P",
        "outputId": "72b9e44b-0785-411b-b78c-3e88eab97594"
      },
      "execution_count": 15,
      "outputs": [
        {
          "output_type": "execute_result",
          "data": {
            "text/plain": [
              "(22687, 22)"
            ]
          },
          "metadata": {},
          "execution_count": 15
        }
      ]
    },
    {
      "cell_type": "code",
      "source": [
        "predictors = subset[1:]\n",
        "outcome = subset[0]\n",
        "display(predictors)\n",
        "display(outcome)"
      ],
      "metadata": {
        "colab": {
          "base_uri": "https://localhost:8080/",
          "height": 53
        },
        "id": "3Qjir1wyFj0S",
        "outputId": "576ebf73-a61b-419e-8fac-6bcd062aebe0"
      },
      "execution_count": 16,
      "outputs": [
        {
          "output_type": "display_data",
          "data": {
            "text/plain": [
              "['SqFtTotLiving', 'SqFtLot', 'Bathrooms', 'Bedrooms', 'BldgGrade']"
            ]
          },
          "metadata": {}
        },
        {
          "output_type": "display_data",
          "data": {
            "text/plain": [
              "'AdjSalePrice'"
            ],
            "application/vnd.google.colaboratory.intrinsic+json": {
              "type": "string"
            }
          },
          "metadata": {}
        }
      ]
    },
    {
      "cell_type": "code",
      "source": [
        "house_lm = LinearRegression()\n",
        "\n",
        "house_lm.fit(house[predictors], house[outcome])"
      ],
      "metadata": {
        "colab": {
          "base_uri": "https://localhost:8080/"
        },
        "id": "EbGlH_oNF-mi",
        "outputId": "eef45069-83d7-4cba-b00c-b0bbe809a8ab"
      },
      "execution_count": 17,
      "outputs": [
        {
          "output_type": "execute_result",
          "data": {
            "text/plain": [
              "LinearRegression()"
            ]
          },
          "metadata": {},
          "execution_count": 17
        }
      ]
    },
    {
      "cell_type": "code",
      "source": [
        "house_lm.coef_"
      ],
      "metadata": {
        "colab": {
          "base_uri": "https://localhost:8080/"
        },
        "id": "6uHzMQRoGTp3",
        "outputId": "3e455ebf-3077-4ab6-b4d5-b23ed3a63d3f"
      },
      "execution_count": 18,
      "outputs": [
        {
          "output_type": "execute_result",
          "data": {
            "text/plain": [
              "array([ 2.28830604e+02, -6.04668207e-02, -1.94428404e+04, -4.77699552e+04,\n",
              "        1.06106963e+05])"
            ]
          },
          "metadata": {},
          "execution_count": 18
        }
      ]
    },
    {
      "cell_type": "code",
      "source": [
        "house_lm.intercept_"
      ],
      "metadata": {
        "colab": {
          "base_uri": "https://localhost:8080/"
        },
        "id": "IQVcFz4bGq7I",
        "outputId": "a3cd19a3-9a00-4bea-9e5b-89612cb70e85"
      },
      "execution_count": 19,
      "outputs": [
        {
          "output_type": "execute_result",
          "data": {
            "text/plain": [
              "-521871.36818828376"
            ]
          },
          "metadata": {},
          "execution_count": 19
        }
      ]
    },
    {
      "cell_type": "code",
      "source": [
        "print(f'Intercept: {house_lm.intercept_:.3f}')\n",
        "print('\\nCoefficients:')\n",
        "for name, coef in list(zip(predictors, house_lm.coef_)):\n",
        "    print(f'{name}: {coef}')"
      ],
      "metadata": {
        "colab": {
          "base_uri": "https://localhost:8080/"
        },
        "id": "DuGSBMY4Gtd_",
        "outputId": "1f64b6cd-eb31-49c4-d02d-87694bb62000"
      },
      "execution_count": 20,
      "outputs": [
        {
          "output_type": "stream",
          "name": "stdout",
          "text": [
            "Intercept: -521871.368\n",
            "\n",
            "Coefficients:\n",
            "SqFtTotLiving: 228.83060360240793\n",
            "SqFtLot: -0.06046682065307607\n",
            "Bathrooms: -19442.84039832106\n",
            "Bedrooms: -47769.95518521438\n",
            "BldgGrade: 106106.96307898081\n"
          ]
        }
      ]
    },
    {
      "cell_type": "markdown",
      "source": [
        "### Assessing the Model"
      ],
      "metadata": {
        "id": "-ToDFLYQKP_2"
      }
    },
    {
      "cell_type": "markdown",
      "source": [
        "#### Root Mean Squared Error (RMSE)\n",
        "\n",
        "- from a data science perspective, this is the most important performance metric\n",
        "- its the square root of the average squared error in the predicted $\\hat{y}_{i}$ values\n",
        "- it measures overall accuracy of the model\n",
        "    - and it is a basis for comparing it to other models, ***including models fit using other learning techniques***\n",
        "- can use  `sklearn.metrics.mean_squared_error` in `scikit-learn`\n",
        "    - this is the part under the square root sign in the equation for RMSE"
      ],
      "metadata": {
        "id": "WM2JrMPqKTQC"
      }
    },
    {
      "cell_type": "markdown",
      "source": [
        "$$\n",
        "RMSE = \\sqrt{\\frac{\\sum_{i=1}^{n}\\left(y_{i} - \\hat{y_i}\\right)^{2}}{n}}\n",
        "$$"
      ],
      "metadata": {
        "id": "ht2TW1JPL3w_"
      }
    },
    {
      "cell_type": "markdown",
      "source": [
        "#### Residual Standard Error (RSE)\n",
        "\n",
        "- similar to RMSE, the only difference is that the denominator is the **degrees of freedom** as opposed to the number of records\n",
        "- in practice, for linear regression, the difference between RMSE and RSE is very small, particularly for big data applications\n",
        "- $p$ is the number of predictors"
      ],
      "metadata": {
        "id": "1cvhkWofObfV"
      }
    },
    {
      "cell_type": "markdown",
      "source": [
        "$$\n",
        "RSE = \\sqrt{\\frac{\\sum_{i=1}^{n}\\left(y_{i} - \\hat{y_i}\\right)^{2}}{n - p - 1}}\n",
        "$$"
      ],
      "metadata": {
        "id": "oNUPRh3jV2vd"
      }
    },
    {
      "cell_type": "markdown",
      "source": [
        "#### R-squared ($R^{2}$)\n",
        "\n",
        "- aka **coefficient of determination\n",
        "- ranges from 0 to 1\n",
        "- measures the proportion of variation in the data that is accounted for in the model\n",
        "- helps explain how well the model fits the data\n",
        "- the denominator is proportional to the variance of $Y$"
      ],
      "metadata": {
        "id": "SdtkEB67fgAv"
      }
    },
    {
      "cell_type": "markdown",
      "source": [
        "$$\n",
        "R^{2} = 1 - \\frac{\\sum_{i=1}^{n}\\left(y_i - \\hat{y_i}\\right)^{2}}{\\sum_{i=1}^{n}\\left(y_i - \\bar{y_i}\\right)^2}\n",
        "$$"
      ],
      "metadata": {
        "id": "rYGgOKftgCQx"
      }
    },
    {
      "cell_type": "code",
      "source": [
        "fitted = house_lm.predict(house[predictors])\n",
        "fitted"
      ],
      "metadata": {
        "colab": {
          "base_uri": "https://localhost:8080/"
        },
        "id": "gxTd6hbARIzL",
        "outputId": "574cd8b4-6c52-48d0-b341-c77a37bee895"
      },
      "execution_count": 21,
      "outputs": [
        {
          "output_type": "execute_result",
          "data": {
            "text/plain": [
              "array([ 424555.81419413, 1135307.41308934,  571696.27428408, ...,\n",
              "        148421.0806143 ,  346082.70383261,  228913.37004649])"
            ]
          },
          "metadata": {},
          "execution_count": 21
        }
      ]
    },
    {
      "cell_type": "code",
      "source": [
        "fitted.shape"
      ],
      "metadata": {
        "colab": {
          "base_uri": "https://localhost:8080/"
        },
        "id": "O1eDQaerRTuC",
        "outputId": "f0eeadcc-e075-4981-a706-32a770ed2729"
      },
      "execution_count": 22,
      "outputs": [
        {
          "output_type": "execute_result",
          "data": {
            "text/plain": [
              "(22687,)"
            ]
          },
          "metadata": {},
          "execution_count": 22
        }
      ]
    },
    {
      "cell_type": "code",
      "source": [
        "# mean squared error (scikit-learn)\n",
        "mean_squared_error(house[outcome], fitted)"
      ],
      "metadata": {
        "colab": {
          "base_uri": "https://localhost:8080/"
        },
        "id": "jr_EyNNtR_AY",
        "outputId": "2142b9a9-a1eb-4fa0-8b3d-a0fac1aadf8f"
      },
      "execution_count": 23,
      "outputs": [
        {
          "output_type": "execute_result",
          "data": {
            "text/plain": [
              "68235991549.00575"
            ]
          },
          "metadata": {},
          "execution_count": 23
        }
      ]
    },
    {
      "cell_type": "code",
      "source": [
        "# mean squared error (from scratch)\n",
        "sum((house[outcome] - fitted)**2) / len(house)"
      ],
      "metadata": {
        "colab": {
          "base_uri": "https://localhost:8080/"
        },
        "id": "vxcG7tPZSLnC",
        "outputId": "ffb1c08b-566d-4890-ee6e-972b5d58b5a7"
      },
      "execution_count": 24,
      "outputs": [
        {
          "output_type": "execute_result",
          "data": {
            "text/plain": [
              "68235991549.00535"
            ]
          },
          "metadata": {},
          "execution_count": 24
        }
      ]
    },
    {
      "cell_type": "code",
      "source": [
        "rmse = np.sqrt(mean_squared_error(house[outcome], fitted))\n",
        "rmse"
      ],
      "metadata": {
        "colab": {
          "base_uri": "https://localhost:8080/"
        },
        "id": "0Kp8pIVpUbuZ",
        "outputId": "15dea865-05c9-4887-d859-beb4b5e903a0"
      },
      "execution_count": 25,
      "outputs": [
        {
          "output_type": "execute_result",
          "data": {
            "text/plain": [
              "261220.19743696266"
            ]
          },
          "metadata": {},
          "execution_count": 25
        }
      ]
    },
    {
      "cell_type": "code",
      "source": [
        "# residual standard error (from scratch)\n",
        "rse = np.sqrt(sum((house[outcome] - fitted)**2) / (len(house) - len(subset) - 1))\n",
        "rse"
      ],
      "metadata": {
        "colab": {
          "base_uri": "https://localhost:8080/"
        },
        "id": "TtlKi6HbVaRm",
        "outputId": "c0892ef1-878b-4156-e2b0-783cf7ddc8c7"
      },
      "execution_count": 26,
      "outputs": [
        {
          "output_type": "execute_result",
          "data": {
            "text/plain": [
              "261260.5060858303"
            ]
          },
          "metadata": {},
          "execution_count": 26
        }
      ]
    },
    {
      "cell_type": "code",
      "source": [
        "# this is needed since statsmodels does\n",
        "#  not include an intercept automatically\n",
        "# - `assign` is a pandas method\n",
        "house[predictors].assign(const=1).head()"
      ],
      "metadata": {
        "colab": {
          "base_uri": "https://localhost:8080/",
          "height": 206
        },
        "id": "xK3YzQIwd9BO",
        "outputId": "68c08a95-0ce2-4620-de2e-4e8b264c7ce7"
      },
      "execution_count": 27,
      "outputs": [
        {
          "output_type": "execute_result",
          "data": {
            "text/plain": [
              "   SqFtTotLiving  SqFtLot  Bathrooms  Bedrooms  BldgGrade  const\n",
              "1           2400     9373       3.00         6          7      1\n",
              "2           3764    20156       3.75         4         10      1\n",
              "3           2060    26036       1.75         4          8      1\n",
              "4           3200     8618       3.75         5          7      1\n",
              "5           1720     8620       1.75         4          7      1"
            ],
            "text/html": [
              "\n",
              "  <div id=\"df-e0abaa73-f4b3-4ae3-9017-f7eb66292de6\">\n",
              "    <div class=\"colab-df-container\">\n",
              "      <div>\n",
              "<style scoped>\n",
              "    .dataframe tbody tr th:only-of-type {\n",
              "        vertical-align: middle;\n",
              "    }\n",
              "\n",
              "    .dataframe tbody tr th {\n",
              "        vertical-align: top;\n",
              "    }\n",
              "\n",
              "    .dataframe thead th {\n",
              "        text-align: right;\n",
              "    }\n",
              "</style>\n",
              "<table border=\"1\" class=\"dataframe\">\n",
              "  <thead>\n",
              "    <tr style=\"text-align: right;\">\n",
              "      <th></th>\n",
              "      <th>SqFtTotLiving</th>\n",
              "      <th>SqFtLot</th>\n",
              "      <th>Bathrooms</th>\n",
              "      <th>Bedrooms</th>\n",
              "      <th>BldgGrade</th>\n",
              "      <th>const</th>\n",
              "    </tr>\n",
              "  </thead>\n",
              "  <tbody>\n",
              "    <tr>\n",
              "      <th>1</th>\n",
              "      <td>2400</td>\n",
              "      <td>9373</td>\n",
              "      <td>3.00</td>\n",
              "      <td>6</td>\n",
              "      <td>7</td>\n",
              "      <td>1</td>\n",
              "    </tr>\n",
              "    <tr>\n",
              "      <th>2</th>\n",
              "      <td>3764</td>\n",
              "      <td>20156</td>\n",
              "      <td>3.75</td>\n",
              "      <td>4</td>\n",
              "      <td>10</td>\n",
              "      <td>1</td>\n",
              "    </tr>\n",
              "    <tr>\n",
              "      <th>3</th>\n",
              "      <td>2060</td>\n",
              "      <td>26036</td>\n",
              "      <td>1.75</td>\n",
              "      <td>4</td>\n",
              "      <td>8</td>\n",
              "      <td>1</td>\n",
              "    </tr>\n",
              "    <tr>\n",
              "      <th>4</th>\n",
              "      <td>3200</td>\n",
              "      <td>8618</td>\n",
              "      <td>3.75</td>\n",
              "      <td>5</td>\n",
              "      <td>7</td>\n",
              "      <td>1</td>\n",
              "    </tr>\n",
              "    <tr>\n",
              "      <th>5</th>\n",
              "      <td>1720</td>\n",
              "      <td>8620</td>\n",
              "      <td>1.75</td>\n",
              "      <td>4</td>\n",
              "      <td>7</td>\n",
              "      <td>1</td>\n",
              "    </tr>\n",
              "  </tbody>\n",
              "</table>\n",
              "</div>\n",
              "      <button class=\"colab-df-convert\" onclick=\"convertToInteractive('df-e0abaa73-f4b3-4ae3-9017-f7eb66292de6')\"\n",
              "              title=\"Convert this dataframe to an interactive table.\"\n",
              "              style=\"display:none;\">\n",
              "        \n",
              "  <svg xmlns=\"http://www.w3.org/2000/svg\" height=\"24px\"viewBox=\"0 0 24 24\"\n",
              "       width=\"24px\">\n",
              "    <path d=\"M0 0h24v24H0V0z\" fill=\"none\"/>\n",
              "    <path d=\"M18.56 5.44l.94 2.06.94-2.06 2.06-.94-2.06-.94-.94-2.06-.94 2.06-2.06.94zm-11 1L8.5 8.5l.94-2.06 2.06-.94-2.06-.94L8.5 2.5l-.94 2.06-2.06.94zm10 10l.94 2.06.94-2.06 2.06-.94-2.06-.94-.94-2.06-.94 2.06-2.06.94z\"/><path d=\"M17.41 7.96l-1.37-1.37c-.4-.4-.92-.59-1.43-.59-.52 0-1.04.2-1.43.59L10.3 9.45l-7.72 7.72c-.78.78-.78 2.05 0 2.83L4 21.41c.39.39.9.59 1.41.59.51 0 1.02-.2 1.41-.59l7.78-7.78 2.81-2.81c.8-.78.8-2.07 0-2.86zM5.41 20L4 18.59l7.72-7.72 1.47 1.35L5.41 20z\"/>\n",
              "  </svg>\n",
              "      </button>\n",
              "      \n",
              "  <style>\n",
              "    .colab-df-container {\n",
              "      display:flex;\n",
              "      flex-wrap:wrap;\n",
              "      gap: 12px;\n",
              "    }\n",
              "\n",
              "    .colab-df-convert {\n",
              "      background-color: #E8F0FE;\n",
              "      border: none;\n",
              "      border-radius: 50%;\n",
              "      cursor: pointer;\n",
              "      display: none;\n",
              "      fill: #1967D2;\n",
              "      height: 32px;\n",
              "      padding: 0 0 0 0;\n",
              "      width: 32px;\n",
              "    }\n",
              "\n",
              "    .colab-df-convert:hover {\n",
              "      background-color: #E2EBFA;\n",
              "      box-shadow: 0px 1px 2px rgba(60, 64, 67, 0.3), 0px 1px 3px 1px rgba(60, 64, 67, 0.15);\n",
              "      fill: #174EA6;\n",
              "    }\n",
              "\n",
              "    [theme=dark] .colab-df-convert {\n",
              "      background-color: #3B4455;\n",
              "      fill: #D2E3FC;\n",
              "    }\n",
              "\n",
              "    [theme=dark] .colab-df-convert:hover {\n",
              "      background-color: #434B5C;\n",
              "      box-shadow: 0px 1px 3px 1px rgba(0, 0, 0, 0.15);\n",
              "      filter: drop-shadow(0px 1px 2px rgba(0, 0, 0, 0.3));\n",
              "      fill: #FFFFFF;\n",
              "    }\n",
              "  </style>\n",
              "\n",
              "      <script>\n",
              "        const buttonEl =\n",
              "          document.querySelector('#df-e0abaa73-f4b3-4ae3-9017-f7eb66292de6 button.colab-df-convert');\n",
              "        buttonEl.style.display =\n",
              "          google.colab.kernel.accessAllowed ? 'block' : 'none';\n",
              "\n",
              "        async function convertToInteractive(key) {\n",
              "          const element = document.querySelector('#df-e0abaa73-f4b3-4ae3-9017-f7eb66292de6');\n",
              "          const dataTable =\n",
              "            await google.colab.kernel.invokeFunction('convertToInteractive',\n",
              "                                                     [key], {});\n",
              "          if (!dataTable) return;\n",
              "\n",
              "          const docLinkHtml = 'Like what you see? Visit the ' +\n",
              "            '<a target=\"_blank\" href=https://colab.research.google.com/notebooks/data_table.ipynb>data table notebook</a>'\n",
              "            + ' to learn more about interactive tables.';\n",
              "          element.innerHTML = '';\n",
              "          dataTable['output_type'] = 'display_data';\n",
              "          await google.colab.output.renderOutput(dataTable, element);\n",
              "          const docLink = document.createElement('div');\n",
              "          docLink.innerHTML = docLinkHtml;\n",
              "          element.appendChild(docLink);\n",
              "        }\n",
              "      </script>\n",
              "    </div>\n",
              "  </div>\n",
              "  "
            ]
          },
          "metadata": {},
          "execution_count": 27
        }
      ]
    },
    {
      "cell_type": "code",
      "source": [
        "# statsmodels ordinary least squares\n",
        "model = sm.OLS(house[outcome], house[predictors].assign(const=1))\n",
        "results = model.fit()"
      ],
      "metadata": {
        "id": "t6YOZwUyatLA"
      },
      "execution_count": 28,
      "outputs": []
    },
    {
      "cell_type": "code",
      "source": [
        "# recall these values from scikit-learn\n",
        "for name, coef in list(zip(predictors, house_lm.coef_)):\n",
        "    print(f'{name}: {coef}')\n",
        "house_lm.intercept_"
      ],
      "metadata": {
        "colab": {
          "base_uri": "https://localhost:8080/"
        },
        "id": "mw584lEDckU_",
        "outputId": "3e6cb6a8-5f7b-4b0b-d1ac-7d574c258681"
      },
      "execution_count": 29,
      "outputs": [
        {
          "output_type": "stream",
          "name": "stdout",
          "text": [
            "SqFtTotLiving: 228.83060360240793\n",
            "SqFtLot: -0.06046682065307607\n",
            "Bathrooms: -19442.84039832106\n",
            "Bedrooms: -47769.95518521438\n",
            "BldgGrade: 106106.96307898081\n"
          ]
        },
        {
          "output_type": "execute_result",
          "data": {
            "text/plain": [
              "-521871.36818828376"
            ]
          },
          "metadata": {},
          "execution_count": 29
        }
      ]
    },
    {
      "cell_type": "code",
      "source": [
        "results.params"
      ],
      "metadata": {
        "colab": {
          "base_uri": "https://localhost:8080/"
        },
        "id": "A-I8PrwccLYX",
        "outputId": "304b2020-f1d5-49e5-e5f2-d4a1ed04b687"
      },
      "execution_count": 30,
      "outputs": [
        {
          "output_type": "execute_result",
          "data": {
            "text/plain": [
              "SqFtTotLiving       228.830604\n",
              "SqFtLot              -0.060467\n",
              "Bathrooms        -19442.840398\n",
              "Bedrooms         -47769.955185\n",
              "BldgGrade        106106.963079\n",
              "const           -521871.368188\n",
              "dtype: float64"
            ]
          },
          "metadata": {},
          "execution_count": 30
        }
      ]
    },
    {
      "cell_type": "code",
      "source": [
        "print(results.summary())"
      ],
      "metadata": {
        "colab": {
          "base_uri": "https://localhost:8080/"
        },
        "id": "FYc0UvT0ejdJ",
        "outputId": "7e0c1cce-71e9-48d4-960d-17b688f48290"
      },
      "execution_count": 31,
      "outputs": [
        {
          "output_type": "stream",
          "name": "stdout",
          "text": [
            "                            OLS Regression Results                            \n",
            "==============================================================================\n",
            "Dep. Variable:           AdjSalePrice   R-squared:                       0.541\n",
            "Model:                            OLS   Adj. R-squared:                  0.540\n",
            "Method:                 Least Squares   F-statistic:                     5338.\n",
            "Date:                Sun, 22 Jan 2023   Prob (F-statistic):               0.00\n",
            "Time:                        03:48:36   Log-Likelihood:            -3.1517e+05\n",
            "No. Observations:               22687   AIC:                         6.304e+05\n",
            "Df Residuals:                   22681   BIC:                         6.304e+05\n",
            "Df Model:                           5                                         \n",
            "Covariance Type:            nonrobust                                         \n",
            "=================================================================================\n",
            "                    coef    std err          t      P>|t|      [0.025      0.975]\n",
            "---------------------------------------------------------------------------------\n",
            "SqFtTotLiving   228.8306      3.899     58.694      0.000     221.189     236.472\n",
            "SqFtLot          -0.0605      0.061     -0.988      0.323      -0.180       0.059\n",
            "Bathrooms     -1.944e+04   3625.388     -5.363      0.000   -2.65e+04   -1.23e+04\n",
            "Bedrooms      -4.777e+04   2489.732    -19.187      0.000   -5.27e+04   -4.29e+04\n",
            "BldgGrade      1.061e+05   2396.445     44.277      0.000    1.01e+05    1.11e+05\n",
            "const         -5.219e+05   1.57e+04    -33.342      0.000   -5.53e+05   -4.91e+05\n",
            "==============================================================================\n",
            "Omnibus:                    29676.557   Durbin-Watson:                   1.247\n",
            "Prob(Omnibus):                  0.000   Jarque-Bera (JB):         19390738.346\n",
            "Skew:                           6.889   Prob(JB):                         0.00\n",
            "Kurtosis:                     145.559   Cond. No.                     2.86e+05\n",
            "==============================================================================\n",
            "\n",
            "Notes:\n",
            "[1] Standard Errors assume that the covariance matrix of the errors is correctly specified.\n",
            "[2] The condition number is large, 2.86e+05. This might indicate that there are\n",
            "strong multicollinearity or other numerical problems.\n"
          ]
        }
      ]
    },
    {
      "cell_type": "code",
      "source": [
        "# r2_score (scikit-learn)\n",
        "r2 = r2_score(house[outcome], fitted)\n",
        "r2"
      ],
      "metadata": {
        "colab": {
          "base_uri": "https://localhost:8080/"
        },
        "id": "fcq2H4wXVALK",
        "outputId": "37f4c75b-cdb8-4e9c-d0b2-97422de2dfd7"
      },
      "execution_count": 32,
      "outputs": [
        {
          "output_type": "execute_result",
          "data": {
            "text/plain": [
              "0.5405875253381902"
            ]
          },
          "metadata": {},
          "execution_count": 32
        }
      ]
    },
    {
      "cell_type": "code",
      "source": [
        "# r2 from scratch\n",
        "1 - sum((house[outcome] - fitted)**2) / \\\n",
        "sum((house[outcome] - house[outcome].mean())**2)"
      ],
      "metadata": {
        "colab": {
          "base_uri": "https://localhost:8080/"
        },
        "id": "v-B50BGpizKG",
        "outputId": "04fa2652-2e10-4a8e-f859-7484b90d6dc2"
      },
      "execution_count": 33,
      "outputs": [
        {
          "output_type": "execute_result",
          "data": {
            "text/plain": [
              "0.5405875253381933"
            ]
          },
          "metadata": {},
          "execution_count": 33
        }
      ]
    },
    {
      "cell_type": "markdown",
      "source": [
        "#### t-statistic"
      ],
      "metadata": {
        "id": "Ab0bzEgLltWV"
      }
    },
    {
      "cell_type": "markdown",
      "source": [
        "$$\n",
        "$$"
      ],
      "metadata": {
        "id": "TRlNv6tmQmYs"
      }
    }
  ]
}